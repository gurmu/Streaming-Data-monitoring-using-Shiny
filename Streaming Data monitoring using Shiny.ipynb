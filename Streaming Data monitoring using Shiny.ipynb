{
 "cells": [
  {
   "cell_type": "markdown",
   "metadata": {},
   "source": [
    "<h1><Center>Streaming Data monitoring using Shiny</Center></h1>"
   ]
  },
  {
   "cell_type": "markdown",
   "metadata": {},
   "source": [
    "# Lesson Goals\n",
    "\n",
    "<div style=\"text-align: Justify\"> In this lesson, we will monitor streaming data using shiny. The dashborad updates automatically to incorporate newly added data </div>\n",
    "\n",
    "______\n",
    "# Prerequests \n",
    "  1. Install the below mentioned libraries\n",
    "  \n",
    "  NB:make sure Jupyter Notebook "
   ]
  },
  {
   "cell_type": "markdown",
   "metadata": {},
   "source": [
    "<img style=\"margin:0px auto;display:block\" src=\"images/streaming_shiny.gif\">"
   ]
  },
  {
   "cell_type": "markdown",
   "metadata": {},
   "source": [
    "We apply Reactive polling function in R studio to create a reactive data source, which works by periodically polling a non-reactive data source.\n",
    "\n",
    "The code below generates and saves data periodically by sampling from the R data function diamonds dataset."
   ]
  },
  {
   "cell_type": "code",
   "execution_count": null,
   "metadata": {},
   "outputs": [],
   "source": [
    "library(ggplot2)\n",
    "library(dplyr)\n",
    "data(\"diamonds\")\n",
    "\n",
    "while(TRUE){\n",
    "        temp=sample_frac(diamonds,0.1)\n",
    "        write.csv(temp, paste0(\"sampled\", gsub(\"[^0-9]\",\"\",Sys.time()),\".csv\"),\n",
    "                  row.names = FALSE)\n",
    "        Sys.sleep(10) # Suspend execution of R expressions. The time interval to suspend execution for, in seconds.\n",
    "\n",
    "}"
   ]
  },
  {
   "cell_type": "markdown",
   "metadata": {},
   "source": [
    "The following code fetch the newly generated data and create a shiny dashborad."
   ]
  },
  {
   "cell_type": "markdown",
   "metadata": {},
   "source": [
    "## ui.R"
   ]
  },
  {
   "cell_type": "code",
   "execution_count": null,
   "metadata": {},
   "outputs": [],
   "source": [
    "library(shiny)\n",
    "\n",
    "fluidPage(\n",
    "        tags$h2(\"Visualizing Streaming Data with Shiny\",\n",
    "                style=\"color:blue;text-align:center\"),\n",
    "\n",
    "        plotOutput(\"plot1\",height = \"600px\")\n",
    "     )"
   ]
  },
  {
   "cell_type": "markdown",
   "metadata": {},
   "source": [
    "## server.R"
   ]
  },
  {
   "cell_type": "code",
   "execution_count": null,
   "metadata": {},
   "outputs": [],
   "source": [
    "library(shiny)\n",
    "library(data.table)\n",
    "library(ggplot2)\n",
    "library(gridExtra)\n",
    "library(readr)\n",
    "\n",
    "IsThereNewFile=function(){  #  cheap function whose values over time will be tested for equality;\n",
    "                            #  inequality indicates that the underlying value has changed and needs to be \n",
    "                            #  invalidated and re-read using valueFunc\n",
    "        \n",
    "        filenames <- list.files(pattern=\"*.csv\", full.names=TRUE)\n",
    "        length(filenames)\n",
    "}\n",
    "\n",
    "\n",
    "\n",
    "ReadAllData=function(){ # A function that calculates the underlying value\n",
    "        filenames <- list.files(pattern=\"*.csv\", full.names=TRUE)\n",
    "       read_csv(filenames[length(filenames)])\n",
    "              }\n",
    "\n",
    "\n",
    "\n",
    "function(input, output, session) {\n",
    " \n",
    " sampled_data <- reactivePoll(10, session,IsThereNewFile, ReadAllData)    \n",
    "         # 10: number of milliseconds to wait between calls to checkFunc\n",
    "\n",
    "output$plot1<-renderPlot({\n",
    "        \n",
    "        sampled_data=  sampled_data()\n",
    "        \n",
    "        g1= ggplot(sampled_data, aes(depth, fill = cut, colour = cut)) +\n",
    "                geom_density(alpha = 0.1) +xlim(55, 70)+ggtitle(\"Distribution of Depth by Cut\")+\n",
    "                theme(plot.title = element_text(color=\"darkred\",size=18,hjust = 0.5),\n",
    "                     axis.text.y = element_text(color=\"blue\",size=12,hjust=1),\n",
    "                      axis.text.x = element_text(color=\"darkred\",size=12,hjust=.5,vjust=.5),\n",
    "                      axis.title.x = element_text(color=\"red\", size=14),\n",
    "                      axis.title.y = element_text(size=14))\n",
    "        \n",
    "        g2=ggplot(sampled_data, aes(carat, ..count.., fill = cut)) +\n",
    "                geom_density(position = \"stack\")+ggtitle(\"Total Carat by Count\")+\n",
    "                theme(plot.title = element_text(color=\"purple\",size=18,hjust = 0.5),\n",
    "                      axis.text.y = element_text(color=\"blue\",size=12,hjust=1),\n",
    "                      axis.text.x = element_text(color=\"darkred\",size=12,hjust=.5,vjust=.5),\n",
    "                      axis.title.x = element_text(color=\"red\", size=14),\n",
    "                      axis.title.y = element_text(size=14))\n",
    "        \n",
    "        \n",
    "        g3=ggplot(sampled_data, aes(carat, ..count.., fill = cut)) +\n",
    "                geom_density(position = \"fill\")+ggtitle(\"Conditional Density Estimate\")+\n",
    "                theme(plot.title = element_text(color=\"black\",size=18,hjust = 0.5),\n",
    "                      axis.text.y = element_text(color=\"blue\",size=12,hjust=1),\n",
    "                      axis.text.x = element_text(color=\"darkred\",size=12,hjust=.5,vjust=.5),\n",
    "                      axis.title.x = element_text(color=\"red\", size=14),\n",
    "                      axis.title.y = element_text(size=14))\n",
    "        \n",
    "        g4=ggplot(sampled_data,aes(carat,price))+geom_boxplot()+facet_grid(.~cut)+\n",
    "                ggtitle(\"Price by Carat for each cut\")+\n",
    "                theme(plot.title = element_text(color=\"darkblue\",size=18,hjust = 0.5),\n",
    "                      axis.text.y = element_text(color=\"blue\",size=12,hjust=1),\n",
    "                      axis.text.x = element_text(color=\"darkred\",size=12,hjust=.5,vjust=.5),\n",
    "                      axis.title.x = element_text(color=\"red\", size=14),\n",
    "                      axis.title.y = element_text(size=14))\n",
    "        \n",
    "        grid.arrange(g1,g2,g3,g4)\n",
    "})\n",
    "\n",
    "\n",
    "}"
   ]
  },
  {
   "cell_type": "markdown",
   "metadata": {},
   "source": [
    "# Further reading\n",
    "\n",
    "\n",
    "1.Mastering Shiny [link](https://mastering-shiny.org/).\n",
    "\n",
    " _________________________\n",
    "# Summary\n",
    "In this tutorial, you discovered how to  create an interactive streaming data monitoring dashboard using shiny. \n",
    "\n"
   ]
  },
  {
   "cell_type": "code",
   "execution_count": null,
   "metadata": {},
   "outputs": [],
   "source": []
  }
 ],
 "metadata": {
  "kernelspec": {
   "display_name": "Python 3",
   "language": "python",
   "name": "python3"
  },
  "language_info": {
   "codemirror_mode": {
    "name": "ipython",
    "version": 3
   },
   "file_extension": ".py",
   "mimetype": "text/x-python",
   "name": "python",
   "nbconvert_exporter": "python",
   "pygments_lexer": "ipython3",
   "version": "3.7.6"
  }
 },
 "nbformat": 4,
 "nbformat_minor": 4
}
